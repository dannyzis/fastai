{
  "nbformat": 4,
  "nbformat_minor": 0,
  "metadata": {
    "colab": {
      "name": "BearClassificationApp.ipynb",
      "provenance": [],
      "mount_file_id": "1KXmkPuKWBvxGPx9ItHVimNDg8v9t934V",
      "authorship_tag": "ABX9TyOvdriWh+nf03mcKCkGYvlv",
      "include_colab_link": true
    },
    "kernelspec": {
      "name": "python3",
      "display_name": "Python 3"
    },
    "widgets": {
      "application/vnd.jupyter.widget-state+json": {
        "708f149caae44d2a94ad29758026f4c7": {
          "model_module": "@jupyter-widgets/controls",
          "model_name": "VBoxModel",
          "state": {
            "_view_name": "VBoxView",
            "_dom_classes": [],
            "_model_name": "VBoxModel",
            "_view_module": "@jupyter-widgets/controls",
            "_model_module_version": "1.5.0",
            "_view_count": null,
            "_view_module_version": "1.5.0",
            "box_style": "",
            "layout": "IPY_MODEL_572b6d68500045d6bb2e60952d4a3e04",
            "_model_module": "@jupyter-widgets/controls",
            "children": [
              "IPY_MODEL_2600e7754a444d149d319fcbfefb728f",
              "IPY_MODEL_553be2d433fe4048a23fee7d9a6a7593",
              "IPY_MODEL_89f853db127e437aa4556affdfacdefd",
              "IPY_MODEL_7462958253e543d69bd4acf56bce2630"
            ]
          }
        },
        "572b6d68500045d6bb2e60952d4a3e04": {
          "model_module": "@jupyter-widgets/base",
          "model_name": "LayoutModel",
          "state": {
            "_view_name": "LayoutView",
            "grid_template_rows": null,
            "right": null,
            "justify_content": null,
            "_view_module": "@jupyter-widgets/base",
            "overflow": null,
            "_model_module_version": "1.2.0",
            "_view_count": null,
            "flex_flow": null,
            "width": null,
            "min_width": null,
            "border": null,
            "align_items": null,
            "bottom": null,
            "_model_module": "@jupyter-widgets/base",
            "top": null,
            "grid_column": null,
            "overflow_y": null,
            "overflow_x": null,
            "grid_auto_flow": null,
            "grid_area": null,
            "grid_template_columns": null,
            "flex": null,
            "_model_name": "LayoutModel",
            "justify_items": null,
            "grid_row": null,
            "max_height": null,
            "align_content": null,
            "visibility": null,
            "align_self": null,
            "height": null,
            "min_height": null,
            "padding": null,
            "grid_auto_rows": null,
            "grid_gap": null,
            "max_width": null,
            "order": null,
            "_view_module_version": "1.2.0",
            "grid_template_areas": null,
            "object_position": null,
            "object_fit": null,
            "grid_auto_columns": null,
            "margin": null,
            "display": null,
            "left": null
          }
        },
        "2600e7754a444d149d319fcbfefb728f": {
          "model_module": "@jupyter-widgets/controls",
          "model_name": "LabelModel",
          "state": {
            "_view_name": "LabelView",
            "style": "IPY_MODEL_bf7e690bd3b54046b4819d8c143780ff",
            "_dom_classes": [],
            "description": "",
            "_model_name": "LabelModel",
            "placeholder": "​",
            "_view_module": "@jupyter-widgets/controls",
            "_model_module_version": "1.5.0",
            "value": "Select your bear!",
            "_view_count": null,
            "_view_module_version": "1.5.0",
            "description_tooltip": null,
            "_model_module": "@jupyter-widgets/controls",
            "layout": "IPY_MODEL_9e0213b3a7a444e3bb248c7e9bc7a31d"
          }
        },
        "553be2d433fe4048a23fee7d9a6a7593": {
          "model_module": "@jupyter-widgets/controls",
          "model_name": "FileUploadModel",
          "state": {
            "_view_name": "FileUploadView",
            "_counter": 1,
            "style": "IPY_MODEL_b6d39df2e0484c8b9d86447fbee4bfa0",
            "_dom_classes": [],
            "description": "Upload",
            "multiple": false,
            "_model_name": "FileUploadModel",
            "data": [
              null
            ],
            "button_style": "",
            "_view_module": "@jupyter-widgets/controls",
            "_model_module_version": "1.5.0",
            "accept": "",
            "_view_count": null,
            "disabled": false,
            "_view_module_version": "1.5.0",
            "error": "",
            "description_tooltip": null,
            "metadata": [
              {
                "name": "bbear1.jpeg",
                "type": "image/jpeg",
                "size": 6513,
                "lastModified": 1599121872316
              }
            ],
            "_model_module": "@jupyter-widgets/controls",
            "layout": "IPY_MODEL_a4c036e692b34042897d433cf130b9ec",
            "icon": "upload"
          }
        },
        "89f853db127e437aa4556affdfacdefd": {
          "model_module": "@jupyter-widgets/output",
          "model_name": "OutputModel",
          "state": {
            "_view_name": "OutputView",
            "msg_id": "",
            "_dom_classes": [],
            "_model_name": "OutputModel",
            "outputs": [
              {
                "output_type": "display_data",
                "metadata": {
                  "tags": []
                },
                "image/png": "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\n",
                "text/plain": "<PIL.Image.Image image mode=RGB size=128x84 at 0x7FAAEE6C4748>"
              }
            ],
            "_view_module": "@jupyter-widgets/output",
            "_model_module_version": "1.0.0",
            "_view_count": null,
            "_view_module_version": "1.0.0",
            "layout": "IPY_MODEL_72930d60e12d47c99ef07db0d1f778ad",
            "_model_module": "@jupyter-widgets/output"
          }
        },
        "7462958253e543d69bd4acf56bce2630": {
          "model_module": "@jupyter-widgets/controls",
          "model_name": "LabelModel",
          "state": {
            "_view_name": "LabelView",
            "style": "IPY_MODEL_647725d7f63a4915b80c6c0506dd7f35",
            "_dom_classes": [],
            "description": "",
            "_model_name": "LabelModel",
            "placeholder": "​",
            "_view_module": "@jupyter-widgets/controls",
            "_model_module_version": "1.5.0",
            "value": "Prediction: black; Probability: 0.9970",
            "_view_count": null,
            "_view_module_version": "1.5.0",
            "description_tooltip": null,
            "_model_module": "@jupyter-widgets/controls",
            "layout": "IPY_MODEL_db14f72a412d49259e9909a757d9c126"
          }
        },
        "bf7e690bd3b54046b4819d8c143780ff": {
          "model_module": "@jupyter-widgets/controls",
          "model_name": "DescriptionStyleModel",
          "state": {
            "_view_name": "StyleView",
            "_model_name": "DescriptionStyleModel",
            "description_width": "",
            "_view_module": "@jupyter-widgets/base",
            "_model_module_version": "1.5.0",
            "_view_count": null,
            "_view_module_version": "1.2.0",
            "_model_module": "@jupyter-widgets/controls"
          }
        },
        "9e0213b3a7a444e3bb248c7e9bc7a31d": {
          "model_module": "@jupyter-widgets/base",
          "model_name": "LayoutModel",
          "state": {
            "_view_name": "LayoutView",
            "grid_template_rows": null,
            "right": null,
            "justify_content": null,
            "_view_module": "@jupyter-widgets/base",
            "overflow": null,
            "_model_module_version": "1.2.0",
            "_view_count": null,
            "flex_flow": null,
            "width": null,
            "min_width": null,
            "border": null,
            "align_items": null,
            "bottom": null,
            "_model_module": "@jupyter-widgets/base",
            "top": null,
            "grid_column": null,
            "overflow_y": null,
            "overflow_x": null,
            "grid_auto_flow": null,
            "grid_area": null,
            "grid_template_columns": null,
            "flex": null,
            "_model_name": "LayoutModel",
            "justify_items": null,
            "grid_row": null,
            "max_height": null,
            "align_content": null,
            "visibility": null,
            "align_self": null,
            "height": null,
            "min_height": null,
            "padding": null,
            "grid_auto_rows": null,
            "grid_gap": null,
            "max_width": null,
            "order": null,
            "_view_module_version": "1.2.0",
            "grid_template_areas": null,
            "object_position": null,
            "object_fit": null,
            "grid_auto_columns": null,
            "margin": null,
            "display": null,
            "left": null
          }
        },
        "b6d39df2e0484c8b9d86447fbee4bfa0": {
          "model_module": "@jupyter-widgets/controls",
          "model_name": "ButtonStyleModel",
          "state": {
            "_view_name": "StyleView",
            "_model_name": "ButtonStyleModel",
            "_view_module": "@jupyter-widgets/base",
            "_model_module_version": "1.5.0",
            "_view_count": null,
            "button_color": null,
            "font_weight": "",
            "_view_module_version": "1.2.0",
            "_model_module": "@jupyter-widgets/controls"
          }
        },
        "a4c036e692b34042897d433cf130b9ec": {
          "model_module": "@jupyter-widgets/base",
          "model_name": "LayoutModel",
          "state": {
            "_view_name": "LayoutView",
            "grid_template_rows": null,
            "right": null,
            "justify_content": null,
            "_view_module": "@jupyter-widgets/base",
            "overflow": null,
            "_model_module_version": "1.2.0",
            "_view_count": null,
            "flex_flow": null,
            "width": null,
            "min_width": null,
            "border": null,
            "align_items": null,
            "bottom": null,
            "_model_module": "@jupyter-widgets/base",
            "top": null,
            "grid_column": null,
            "overflow_y": null,
            "overflow_x": null,
            "grid_auto_flow": null,
            "grid_area": null,
            "grid_template_columns": null,
            "flex": null,
            "_model_name": "LayoutModel",
            "justify_items": null,
            "grid_row": null,
            "max_height": null,
            "align_content": null,
            "visibility": null,
            "align_self": null,
            "height": null,
            "min_height": null,
            "padding": null,
            "grid_auto_rows": null,
            "grid_gap": null,
            "max_width": null,
            "order": null,
            "_view_module_version": "1.2.0",
            "grid_template_areas": null,
            "object_position": null,
            "object_fit": null,
            "grid_auto_columns": null,
            "margin": null,
            "display": null,
            "left": null
          }
        },
        "647725d7f63a4915b80c6c0506dd7f35": {
          "model_module": "@jupyter-widgets/controls",
          "model_name": "DescriptionStyleModel",
          "state": {
            "_view_name": "StyleView",
            "_model_name": "DescriptionStyleModel",
            "description_width": "",
            "_view_module": "@jupyter-widgets/base",
            "_model_module_version": "1.5.0",
            "_view_count": null,
            "_view_module_version": "1.2.0",
            "_model_module": "@jupyter-widgets/controls"
          }
        },
        "db14f72a412d49259e9909a757d9c126": {
          "model_module": "@jupyter-widgets/base",
          "model_name": "LayoutModel",
          "state": {
            "_view_name": "LayoutView",
            "grid_template_rows": null,
            "right": null,
            "justify_content": null,
            "_view_module": "@jupyter-widgets/base",
            "overflow": null,
            "_model_module_version": "1.2.0",
            "_view_count": null,
            "flex_flow": null,
            "width": null,
            "min_width": null,
            "border": null,
            "align_items": null,
            "bottom": null,
            "_model_module": "@jupyter-widgets/base",
            "top": null,
            "grid_column": null,
            "overflow_y": null,
            "overflow_x": null,
            "grid_auto_flow": null,
            "grid_area": null,
            "grid_template_columns": null,
            "flex": null,
            "_model_name": "LayoutModel",
            "justify_items": null,
            "grid_row": null,
            "max_height": null,
            "align_content": null,
            "visibility": null,
            "align_self": null,
            "height": null,
            "min_height": null,
            "padding": null,
            "grid_auto_rows": null,
            "grid_gap": null,
            "max_width": null,
            "order": null,
            "_view_module_version": "1.2.0",
            "grid_template_areas": null,
            "object_position": null,
            "object_fit": null,
            "grid_auto_columns": null,
            "margin": null,
            "display": null,
            "left": null
          }
        },
        "72930d60e12d47c99ef07db0d1f778ad": {
          "model_module": "@jupyter-widgets/base",
          "model_name": "LayoutModel",
          "state": {
            "_view_name": "LayoutView",
            "grid_template_rows": null,
            "right": null,
            "justify_content": null,
            "_view_module": "@jupyter-widgets/base",
            "overflow": null,
            "_model_module_version": "1.2.0",
            "_view_count": null,
            "flex_flow": null,
            "width": null,
            "min_width": null,
            "border": null,
            "align_items": null,
            "bottom": null,
            "_model_module": "@jupyter-widgets/base",
            "top": null,
            "grid_column": null,
            "overflow_y": null,
            "overflow_x": null,
            "grid_auto_flow": null,
            "grid_area": null,
            "grid_template_columns": null,
            "flex": null,
            "_model_name": "LayoutModel",
            "justify_items": null,
            "grid_row": null,
            "max_height": null,
            "align_content": null,
            "visibility": null,
            "align_self": null,
            "height": null,
            "min_height": null,
            "padding": null,
            "grid_auto_rows": null,
            "grid_gap": null,
            "max_width": null,
            "order": null,
            "_view_module_version": "1.2.0",
            "grid_template_areas": null,
            "object_position": null,
            "object_fit": null,
            "grid_auto_columns": null,
            "margin": null,
            "display": null,
            "left": null
          }
        }
      }
    }
  },
  "cells": [
    {
      "cell_type": "markdown",
      "metadata": {
        "id": "view-in-github",
        "colab_type": "text"
      },
      "source": [
        "<a href=\"https://colab.research.google.com/github/dannyzis/fastai/blob/master/BearClassificationApp.ipynb\" target=\"_parent\"><img src=\"https://colab.research.google.com/assets/colab-badge.svg\" alt=\"Open In Colab\"/></a>"
      ]
    },
    {
      "cell_type": "code",
      "metadata": {
        "id": "HzS6QCBmUv3f",
        "colab_type": "code",
        "colab": {}
      },
      "source": [
        "import fastai"
      ],
      "execution_count": 16,
      "outputs": []
    },
    {
      "cell_type": "code",
      "metadata": {
        "id": "WGN0BnHuIls8",
        "colab_type": "code",
        "colab": {}
      },
      "source": [
        "\n",
        "from fastai.vision.all import *\n",
        "from fastai.vision.widgets import *"
      ],
      "execution_count": 17,
      "outputs": []
    },
    {
      "cell_type": "code",
      "metadata": {
        "id": "fNRA-V8rLOQ8",
        "colab_type": "code",
        "colab": {}
      },
      "source": [
        "\n",
        "path = '/content/drive/My Drive/Colab Notebooks/BearsModel/export.pkl'\n",
        "learn_inf = load_learner(path, cpu=True)\n",
        "btn_upload = widgets.FileUpload()\n",
        "out_pl = widgets.Output()\n",
        "lbl_pred = widgets.Label()"
      ],
      "execution_count": 18,
      "outputs": []
    },
    {
      "cell_type": "code",
      "metadata": {
        "id": "di0AXCfAOJAJ",
        "colab_type": "code",
        "colab": {}
      },
      "source": [
        "def on_data_change(change):\n",
        "    lbl_pred.value = ''\n",
        "    img = PILImage.create(btn_upload.data[-1])\n",
        "    out_pl.clear_output()\n",
        "    with out_pl: display(img.to_thumb(128,128))\n",
        "    pred,pred_idx,probs = learn_inf.predict(img)\n",
        "    lbl_pred.value = f'Prediction: {pred}; Probability: {probs[pred_idx]:.04f}'"
      ],
      "execution_count": 19,
      "outputs": []
    },
    {
      "cell_type": "code",
      "metadata": {
        "id": "BSupMa8dOOD1",
        "colab_type": "code",
        "colab": {}
      },
      "source": [
        "btn_upload.observe(on_data_change, names=['data'])"
      ],
      "execution_count": 20,
      "outputs": []
    },
    {
      "cell_type": "code",
      "metadata": {
        "id": "P-Yvs9SAOUD9",
        "colab_type": "code",
        "colab": {
          "base_uri": "https://localhost:8080/",
          "height": 197,
          "referenced_widgets": [
            "708f149caae44d2a94ad29758026f4c7",
            "572b6d68500045d6bb2e60952d4a3e04",
            "2600e7754a444d149d319fcbfefb728f",
            "553be2d433fe4048a23fee7d9a6a7593",
            "89f853db127e437aa4556affdfacdefd",
            "7462958253e543d69bd4acf56bce2630",
            "bf7e690bd3b54046b4819d8c143780ff",
            "9e0213b3a7a444e3bb248c7e9bc7a31d",
            "b6d39df2e0484c8b9d86447fbee4bfa0",
            "a4c036e692b34042897d433cf130b9ec",
            "647725d7f63a4915b80c6c0506dd7f35",
            "db14f72a412d49259e9909a757d9c126",
            "72930d60e12d47c99ef07db0d1f778ad"
          ]
        },
        "outputId": "7ee293c5-71f9-44da-ccfd-0d486284faf1"
      },
      "source": [
        "display(VBox([widgets.Label('Select your bear!'), btn_upload, out_pl, lbl_pred]))"
      ],
      "execution_count": 21,
      "outputs": [
        {
          "output_type": "display_data",
          "data": {
            "application/vnd.jupyter.widget-view+json": {
              "model_id": "708f149caae44d2a94ad29758026f4c7",
              "version_minor": 0,
              "version_major": 2
            },
            "text/plain": [
              "VBox(children=(Label(value='Select your bear!'), FileUpload(value={}, description='Upload'), Output(), Label(v…"
            ]
          },
          "metadata": {
            "tags": []
          }
        },
        {
          "output_type": "display_data",
          "data": {
            "text/html": [
              ""
            ],
            "text/plain": [
              "<IPython.core.display.HTML object>"
            ]
          },
          "metadata": {
            "tags": []
          }
        }
      ]
    }
  ]
}